{
 "cells": [
  {
   "cell_type": "code",
   "execution_count": 1,
   "metadata": {
    "collapsed": true
   },
   "outputs": [],
   "source": [
    "class AStar(object):\n",
    "    def __init__(self, graph):\n",
    "        self.graph = graph\n",
    "        \n",
    "    def heuristic(self, node, start, end):\n",
    "        raise NotImplementedError\n",
    "        \n",
    "    def search(self, start, end):\n",
    "        openset = set()\n",
    "        closedset = set()\n",
    "        current = start\n",
    "        openset.add(current)\n",
    "        while openset:\n",
    "            current = min(openset, key=lambda o:o.g + o.h)\n",
    "            if current == end:\n",
    "                path = []\n",
    "                while current.parent:\n",
    "                    path.append(current)\n",
    "                    current = current.parent\n",
    "                path.append(current)\n",
    "                return path[::-1]\n",
    "            openset.remove(current)\n",
    "            closedset.add(current)\n",
    "            for node in self.graph[current]:\n",
    "                if node in closedset:\n",
    "                    continue\n",
    "                if node in openset:\n",
    "                    new_g = current.g + current.move_cost(node)\n",
    "                    if node.g > new_g:\n",
    "                        node.g = new_g\n",
    "                        node.parent = current\n",
    "                else:\n",
    "                    node.g = current.g + current.move_cost(node)\n",
    "                    node.h = self.heuristic(node, start, end)\n",
    "                    node.parent = current\n",
    "                    openset.add(node)\n",
    "        return None\n",
    "\n",
    "class AStarNode(object):\n",
    "    def __init__(self):\n",
    "        self.g = 0\n",
    "        self.h = 0\n",
    "        self.parent = None\n",
    "        \n",
    "    def move_cost(self, other):\n",
    "        raise NotImplementedError"
   ]
  },
  {
   "cell_type": "code",
   "execution_count": 2,
   "metadata": {
    "collapsed": false
   },
   "outputs": [],
   "source": [
    "from math import sqrt\n",
    "\n",
    "class AStarGrid(AStar):\n",
    "    def heuristic(self, node, start, end):\n",
    "        # NOTE: this is traditionally sqrt((end.x - node.x)**2 + (end.y - node.y)**2)\n",
    "        # However, if you are not interested in the *actual* cost, but only relative cost,\n",
    "        # then the math can be simplified.\n",
    "        return abs(end.x - node.x) + abs(end.y - node.y)\n",
    "        #return sqrt((end.x - node.x)**2 + (end.y - node.y)**2)\n",
    "\n",
    "class AStarGridNode(AStarNode):\n",
    "    def __init__(self, x, y):\n",
    "        self.x, self.y = x, y\n",
    "        super(AStarGridNode, self).__init__()\n",
    "\n",
    "    def move_cost(self, other):\n",
    "        diagonal = abs(self.x - other.x) == 1 and abs(self.y - other.y) == 1\n",
    "        return 25 if diagonal else 10\n",
    "\n",
    "    def __repr__(self):\n",
    "        return '(%d %d)' % (self.x, self.y)"
   ]
  },
  {
   "cell_type": "code",
   "execution_count": 3,
   "metadata": {
    "collapsed": false
   },
   "outputs": [
    {
     "name": "stdout",
     "output_type": "stream",
     "text": [
      "Path found: [(1 1), (1 2), (1 3), (2 3), (2 4), (3 4), (3 5), (3 6), (3 7), (4 7), (5 7)]\n"
     ]
    }
   ],
   "source": [
    "from itertools import product\n",
    "\n",
    "def make_graph(mapinfo):\n",
    "    nodes = [[AStarGridNode(x, y) for y in range(mapinfo['height'])] for x in range(mapinfo['width'])]\n",
    "    graph = {}\n",
    "    for x, y in product(range(mapinfo['width']), range(mapinfo['height'])):\n",
    "        node = nodes[x][y]\n",
    "        graph[node] = []\n",
    "        for i, j in product([-1, 0, 1], [-1, 0, 1]):\n",
    "            if not (0 <= x + i < mapinfo['width']): continue\n",
    "            if not (0 <= y + j < mapinfo['height']): continue\n",
    "            if [x+i,y+j] in mapinfo['obstacle']: continue\n",
    "            graph[nodes[x][y]].append(nodes[x+i][y+j])\n",
    "    return graph, nodes\n",
    "\n",
    "obstacle = [[2,5],[3,5],[4,5],[5,5]]\n",
    "graph, nodes = make_graph({\"width\": 8, \"height\": 8, \"obstacle\":[]})\n",
    "paths = AStarGrid(graph)\n",
    "start, end = nodes[1][1], nodes[5][7]\n",
    "path = paths.search(start, end)\n",
    "if path is None:\n",
    "    print \"No path found\"\n",
    "else:\n",
    "    print \"Path found:\", path"
   ]
  },
  {
   "cell_type": "code",
   "execution_count": 4,
   "metadata": {
    "collapsed": false
   },
   "outputs": [
    {
     "name": "stdout",
     "output_type": "stream",
     "text": [
      "Populating the interactive namespace from numpy and matplotlib\n"
     ]
    },
    {
     "name": "stderr",
     "output_type": "stream",
     "text": [
      "WARNING: pylab import has clobbered these variables: ['product', 'sqrt']\n",
      "`%matplotlib` prevents importing * from pylab and numpy\n"
     ]
    }
   ],
   "source": [
    "import matplotlib.pyplot as plt\n",
    "%pylab inline\n",
    "import numpy as np"
   ]
  },
  {
   "cell_type": "code",
   "execution_count": 5,
   "metadata": {
    "collapsed": false
   },
   "outputs": [
    {
     "data": {
      "text/plain": [
       "<matplotlib.collections.PathCollection at 0x10f715810>"
      ]
     },
     "execution_count": 5,
     "metadata": {},
     "output_type": "execute_result"
    },
    {
     "data": {
      "image/png": "[encoded data removed]",
      "text/plain": [
       "<matplotlib.figure.Figure at 0x10c3e0110>"
      ]
     },
     "metadata": {},
     "output_type": "display_data"
    }
   ],
   "source": [
    "from itertools import product\n",
    "for indices in product(range(len(nodes)), repeat=2):\n",
    "    plt.scatter(indices[0],indices[1])\n",
    "plt.axis('off')\n",
    "\n",
    "for i in range(1,len(path)):\n",
    "    plt.plot([path[i-1].x,path[i].x],[path[i-1].y,path[i].y],c='green')\n",
    "plt.scatter(start.x,start.y,c='r',edgecolor='r',lw=2)\n",
    "plt.scatter(end.x,end.y,c='r',edgecolor='r',lw=2)"
   ]
  },
  {
   "cell_type": "code",
   "execution_count": 6,
   "metadata": {
    "collapsed": false
   },
   "outputs": [
    {
     "data": {
      "text/plain": [
       "8"
      ]
     },
     "execution_count": 6,
     "metadata": {},
     "output_type": "execute_result"
    }
   ],
   "source": [
    "len(nodes)"
   ]
  },
  {
   "cell_type": "code",
   "execution_count": 7,
   "metadata": {
    "collapsed": false
   },
   "outputs": [
    {
     "data": {
      "text/plain": [
       "(1 1)"
      ]
     },
     "execution_count": 7,
     "metadata": {},
     "output_type": "execute_result"
    }
   ],
   "source": [
    "start"
   ]
  },
  {
   "cell_type": "code",
   "execution_count": 8,
   "metadata": {
    "collapsed": false
   },
   "outputs": [
    {
     "data": {
      "text/plain": [
       "{(0 0): [(0 0), (0 1), (1 0), (1 1)],\n",
       " (0 1): [(0 0), (0 1), (0 2), (1 0), (1 1), (1 2)],\n",
       " (0 2): [(0 1), (0 2), (0 3), (1 1), (1 2), (1 3)],\n",
       " (0 3): [(0 2), (0 3), (0 4), (1 2), (1 3), (1 4)],\n",
       " (0 4): [(0 3), (0 4), (0 5), (1 3), (1 4), (1 5)],\n",
       " (0 5): [(0 4), (0 5), (0 6), (1 4), (1 5), (1 6)],\n",
       " (0 6): [(0 5), (0 6), (0 7), (1 5), (1 6), (1 7)],\n",
       " (0 7): [(0 6), (0 7), (1 6), (1 7)],\n",
       " (1 0): [(0 0), (0 1), (1 0), (1 1), (2 0), (2 1)],\n",
       " (1 1): [(0 0), (0 1), (0 2), (1 0), (1 1), (1 2), (2 0), (2 1), (2 2)],\n",
       " (1 2): [(0 1), (0 2), (0 3), (1 1), (1 2), (1 3), (2 1), (2 2), (2 3)],\n",
       " (1 3): [(0 2), (0 3), (0 4), (1 2), (1 3), (1 4), (2 2), (2 3), (2 4)],\n",
       " (1 4): [(0 3), (0 4), (0 5), (1 3), (1 4), (1 5), (2 3), (2 4), (2 5)],\n",
       " (1 5): [(0 4), (0 5), (0 6), (1 4), (1 5), (1 6), (2 4), (2 5), (2 6)],\n",
       " (1 6): [(0 5), (0 6), (0 7), (1 5), (1 6), (1 7), (2 5), (2 6), (2 7)],\n",
       " (1 7): [(0 6), (0 7), (1 6), (1 7), (2 6), (2 7)],\n",
       " (2 0): [(1 0), (1 1), (2 0), (2 1), (3 0), (3 1)],\n",
       " (2 1): [(1 0), (1 1), (1 2), (2 0), (2 1), (2 2), (3 0), (3 1), (3 2)],\n",
       " (2 2): [(1 1), (1 2), (1 3), (2 1), (2 2), (2 3), (3 1), (3 2), (3 3)],\n",
       " (2 3): [(1 2), (1 3), (1 4), (2 2), (2 3), (2 4), (3 2), (3 3), (3 4)],\n",
       " (2 4): [(1 3), (1 4), (1 5), (2 3), (2 4), (2 5), (3 3), (3 4), (3 5)],\n",
       " (2 5): [(1 4), (1 5), (1 6), (2 4), (2 5), (2 6), (3 4), (3 5), (3 6)],\n",
       " (2 6): [(1 5), (1 6), (1 7), (2 5), (2 6), (2 7), (3 5), (3 6), (3 7)],\n",
       " (2 7): [(1 6), (1 7), (2 6), (2 7), (3 6), (3 7)],\n",
       " (3 0): [(2 0), (2 1), (3 0), (3 1), (4 0), (4 1)],\n",
       " (3 1): [(2 0), (2 1), (2 2), (3 0), (3 1), (3 2), (4 0), (4 1), (4 2)],\n",
       " (3 2): [(2 1), (2 2), (2 3), (3 1), (3 2), (3 3), (4 1), (4 2), (4 3)],\n",
       " (3 3): [(2 2), (2 3), (2 4), (3 2), (3 3), (3 4), (4 2), (4 3), (4 4)],\n",
       " (3 4): [(2 3), (2 4), (2 5), (3 3), (3 4), (3 5), (4 3), (4 4), (4 5)],\n",
       " (3 5): [(2 4), (2 5), (2 6), (3 4), (3 5), (3 6), (4 4), (4 5), (4 6)],\n",
       " (3 6): [(2 5), (2 6), (2 7), (3 5), (3 6), (3 7), (4 5), (4 6), (4 7)],\n",
       " (3 7): [(2 6), (2 7), (3 6), (3 7), (4 6), (4 7)],\n",
       " (4 0): [(3 0), (3 1), (4 0), (4 1), (5 0), (5 1)],\n",
       " (4 1): [(3 0), (3 1), (3 2), (4 0), (4 1), (4 2), (5 0), (5 1), (5 2)],\n",
       " (4 2): [(3 1), (3 2), (3 3), (4 1), (4 2), (4 3), (5 1), (5 2), (5 3)],\n",
       " (4 3): [(3 2), (3 3), (3 4), (4 2), (4 3), (4 4), (5 2), (5 3), (5 4)],\n",
       " (4 4): [(3 3), (3 4), (3 5), (4 3), (4 4), (4 5), (5 3), (5 4), (5 5)],\n",
       " (4 5): [(3 4), (3 5), (3 6), (4 4), (4 5), (4 6), (5 4), (5 5), (5 6)],\n",
       " (4 6): [(3 5), (3 6), (3 7), (4 5), (4 6), (4 7), (5 5), (5 6), (5 7)],\n",
       " (4 7): [(3 6), (3 7), (4 6), (4 7), (5 6), (5 7)],\n",
       " (5 0): [(4 0), (4 1), (5 0), (5 1), (6 0), (6 1)],\n",
       " (5 1): [(4 0), (4 1), (4 2), (5 0), (5 1), (5 2), (6 0), (6 1), (6 2)],\n",
       " (5 2): [(4 1), (4 2), (4 3), (5 1), (5 2), (5 3), (6 1), (6 2), (6 3)],\n",
       " (5 3): [(4 2), (4 3), (4 4), (5 2), (5 3), (5 4), (6 2), (6 3), (6 4)],\n",
       " (5 4): [(4 3), (4 4), (4 5), (5 3), (5 4), (5 5), (6 3), (6 4), (6 5)],\n",
       " (5 5): [(4 4), (4 5), (4 6), (5 4), (5 5), (5 6), (6 4), (6 5), (6 6)],\n",
       " (5 6): [(4 5), (4 6), (4 7), (5 5), (5 6), (5 7), (6 5), (6 6), (6 7)],\n",
       " (5 7): [(4 6), (4 7), (5 6), (5 7), (6 6), (6 7)],\n",
       " (6 0): [(5 0), (5 1), (6 0), (6 1), (7 0), (7 1)],\n",
       " (6 1): [(5 0), (5 1), (5 2), (6 0), (6 1), (6 2), (7 0), (7 1), (7 2)],\n",
       " (6 2): [(5 1), (5 2), (5 3), (6 1), (6 2), (6 3), (7 1), (7 2), (7 3)],\n",
       " (6 3): [(5 2), (5 3), (5 4), (6 2), (6 3), (6 4), (7 2), (7 3), (7 4)],\n",
       " (6 4): [(5 3), (5 4), (5 5), (6 3), (6 4), (6 5), (7 3), (7 4), (7 5)],\n",
       " (6 5): [(5 4), (5 5), (5 6), (6 4), (6 5), (6 6), (7 4), (7 5), (7 6)],\n",
       " (6 6): [(5 5), (5 6), (5 7), (6 5), (6 6), (6 7), (7 5), (7 6), (7 7)],\n",
       " (6 7): [(5 6), (5 7), (6 6), (6 7), (7 6), (7 7)],\n",
       " (7 0): [(6 0), (6 1), (7 0), (7 1)],\n",
       " (7 1): [(6 0), (6 1), (6 2), (7 0), (7 1), (7 2)],\n",
       " (7 2): [(6 1), (6 2), (6 3), (7 1), (7 2), (7 3)],\n",
       " (7 3): [(6 2), (6 3), (6 4), (7 2), (7 3), (7 4)],\n",
       " (7 4): [(6 3), (6 4), (6 5), (7 3), (7 4), (7 5)],\n",
       " (7 5): [(6 4), (6 5), (6 6), (7 4), (7 5), (7 6)],\n",
       " (7 6): [(6 5), (6 6), (6 7), (7 5), (7 6), (7 7)],\n",
       " (7 7): [(6 6), (6 7), (7 6), (7 7)]}"
      ]
     },
     "execution_count": 8,
     "metadata": {},
     "output_type": "execute_result"
    }
   ],
   "source": [
    "graph"
   ]
  },
  {
   "cell_type": "code",
   "execution_count": 9,
   "metadata": {
    "collapsed": false
   },
   "outputs": [
    {
     "data": {
      "text/plain": [
       "[[(0 0), (0 1), (0 2), (0 3), (0 4), (0 5), (0 6), (0 7)],\n",
       " [(1 0), (1 1), (1 2), (1 3), (1 4), (1 5), (1 6), (1 7)],\n",
       " [(2 0), (2 1), (2 2), (2 3), (2 4), (2 5), (2 6), (2 7)],\n",
       " [(3 0), (3 1), (3 2), (3 3), (3 4), (3 5), (3 6), (3 7)],\n",
       " [(4 0), (4 1), (4 2), (4 3), (4 4), (4 5), (4 6), (4 7)],\n",
       " [(5 0), (5 1), (5 2), (5 3), (5 4), (5 5), (5 6), (5 7)],\n",
       " [(6 0), (6 1), (6 2), (6 3), (6 4), (6 5), (6 6), (6 7)],\n",
       " [(7 0), (7 1), (7 2), (7 3), (7 4), (7 5), (7 6), (7 7)]]"
      ]
     },
     "execution_count": 9,
     "metadata": {},
     "output_type": "execute_result"
    }
   ],
   "source": [
    "nodes"
   ]
  },
  {
   "cell_type": "code",
   "execution_count": 10,
   "metadata": {
    "collapsed": false
   },
   "outputs": [],
   "source": [
    "CHELSEA = {'ten-fourteen':(40.742127, -74.008183),\n",
    "'nine-fourteen':(40.740963, -74.005424),\n",
    "'ten-twentythree':(40.747674, -74.004164),\n",
    "'six-twentythree':(40.742927, -73.992834),\n",
    "'six-fourteen':(40.737383, -73.996933)}"
   ]
  },
  {
   "cell_type": "code",
   "execution_count": 11,
   "metadata": {
    "collapsed": false
   },
   "outputs": [],
   "source": [
    "chls = [(40.737375, -73.996833), #bottomright\n",
    "        (40.742154, -74.008227), #bottomleft\n",
    "        (40.742951, -73.992820), #topright\n",
    "        (40.747674, -74.004164)] #topleft"
   ]
  },
  {
   "cell_type": "code",
   "execution_count": 12,
   "metadata": {
    "collapsed": false
   },
   "outputs": [
    {
     "data": {
      "image/png": "[encoded data removed]",
      "text/plain": [
       "<matplotlib.figure.Figure at 0x10c3ce0d0>"
      ]
     },
     "metadata": {},
     "output_type": "display_data"
    }
   ],
   "source": [
    "for tupl in chls:\n",
    "    plt.scatter(tupl[0],tupl[1], label=tupl)"
   ]
  },
  {
   "cell_type": "code",
   "execution_count": 13,
   "metadata": {
    "collapsed": false
   },
   "outputs": [
    {
     "data": {
      "text/plain": [
       "array([-0.001593,  0.003798])"
      ]
     },
     "execution_count": 13,
     "metadata": {},
     "output_type": "execute_result"
    }
   ],
   "source": [
    "(np.array(chls[0])-np.array(chls[1]))/3"
   ]
  },
  {
   "cell_type": "code",
   "execution_count": 14,
   "metadata": {
    "collapsed": false
   },
   "outputs": [
    {
     "name": "stdout",
     "output_type": "stream",
     "text": [
      "40.737375 -73.996833\n",
      "40.735782 -73.993035\n",
      "40.734189 -73.989237\n",
      "40.732596 -73.985439\n"
     ]
    },
    {
     "data": {
      "image/png": "[encoded data removed]",
      "text/plain": [
       "<matplotlib.figure.Figure at 0x10f92cb90>"
      ]
     },
     "metadata": {},
     "output_type": "display_data"
    }
   ],
   "source": [
    "for i in range(4):\n",
    "    dot = np.array(chls[0])+((np.array(chls[0])-np.array(chls[1]))/3)*i\n",
    "    plt.scatter(dot[0],dot[1])\n",
    "    print dot[0],dot[1]"
   ]
  },
  {
   "cell_type": "code",
   "execution_count": 15,
   "metadata": {
    "collapsed": true
   },
   "outputs": [],
   "source": [
    "test2 = [(1.,1.),(1.,5.),(5.,1.),(5.,5.)]"
   ]
  },
  {
   "cell_type": "code",
   "execution_count": 16,
   "metadata": {
    "collapsed": false
   },
   "outputs": [
    {
     "ename": "TypeError",
     "evalue": "'instancemethod' object is not iterable",
     "output_type": "error",
     "traceback": [
      "\u001b[0;31m---------------------------------------------------------------------------\u001b[0m",
      "\u001b[0;31mTypeError\u001b[0m                                 Traceback (most recent call last)",
      "\u001b[0;32m<ipython-input-16-ea07338c6a26>\u001b[0m in \u001b[0;36m<module>\u001b[0;34m()\u001b[0m\n\u001b[0;32m----> 1\u001b[0;31m \u001b[0;32mfor\u001b[0m \u001b[0mt\u001b[0m \u001b[0;32min\u001b[0m \u001b[0mtest\u001b[0m\u001b[0;34m:\u001b[0m\u001b[0;34m\u001b[0m\u001b[0m\n\u001b[0m\u001b[1;32m      2\u001b[0m     \u001b[0mplt\u001b[0m\u001b[0;34m.\u001b[0m\u001b[0mscatter\u001b[0m\u001b[0;34m(\u001b[0m\u001b[0mt\u001b[0m\u001b[0;34m[\u001b[0m\u001b[0;36m0\u001b[0m\u001b[0;34m]\u001b[0m\u001b[0;34m,\u001b[0m\u001b[0mt\u001b[0m\u001b[0;34m[\u001b[0m\u001b[0;36m1\u001b[0m\u001b[0;34m]\u001b[0m\u001b[0;34m)\u001b[0m\u001b[0;34m\u001b[0m\u001b[0m\n",
      "\u001b[0;31mTypeError\u001b[0m: 'instancemethod' object is not iterable"
     ]
    }
   ],
   "source": [
    "for t in test:\n",
    "    plt.scatter(t[0],t[1])"
   ]
  },
  {
   "cell_type": "code",
   "execution_count": null,
   "metadata": {
    "collapsed": false
   },
   "outputs": [],
   "source": [
    "test = chls\n",
    "ro = 4\n",
    "co = 5\n",
    "selro = abs((np.array(test[2])-np.array(test[0]))/ro)\n",
    "selco = abs((np.array(test[2])-np.array(test[1]))/co)\n",
    "for i in range(ro+1):\n",
    "    for j in range(co+1):\n",
    "        po = selco*j+test[0]+selro*i\n",
    "        plt.scatter(po[0],po[1])"
   ]
  },
  {
   "cell_type": "code",
   "execution_count": null,
   "metadata": {
    "collapsed": false
   },
   "outputs": [],
   "source": [
    "for tupl in chls:\n",
    "    plt.scatter(tupl[1],tupl[0], label=chls)\n",
    "    plt.xlim()"
   ]
  },
  {
   "cell_type": "code",
   "execution_count": null,
   "metadata": {
    "collapsed": false
   },
   "outputs": [],
   "source": [
    "import numpy as np\n",
    "import pandas as pd\n",
    "import datetime\n",
    "import urllib\n",
    "from sklearn.decomposition import PCA\n",
    "import shapefile as shp\n",
    "from shapely.geometry.polygon import Polygon\n",
    "from descartes import PolygonPatch\n",
    "from sklearn.cluster import KMeans\n",
    "from sklearn.cluster import DBSCAN"
   ]
  },
  {
   "cell_type": "markdown",
   "metadata": {
    "collapsed": true
   },
   "source": [
    "# From GMAP"
   ]
  },
  {
   "cell_type": "code",
   "execution_count": null,
   "metadata": {
    "collapsed": true
   },
   "outputs": [],
   "source": [
    "from urllib2 import Request, urlopen\n",
    "import json\n",
    "from pandas.io.json import json_normalize\n",
    "import geopy\n",
    "from geopy.distance import vincenty\n",
    "import pandas as pd"
   ]
  },
  {
   "cell_type": "code",
   "execution_count": null,
   "metadata": {
    "collapsed": true
   },
   "outputs": [],
   "source": [
    "origin = '257goldstreet'\n",
    "destination = \n",
    "url = ('https://maps.googleapis.com/maps/api/directions/json?origin=%s&destination=%s&mode=walking&alternatives=true&key=%s'%(origin, destination, routeapi)"
   ]
  },
  {
   "cell_type": "code",
   "execution_count": null,
   "metadata": {
    "collapsed": false
   },
   "outputs": [],
   "source": [
    "streetscore = pd.read_csv('streetscore_newyorkcity.csv')"
   ]
  },
  {
   "cell_type": "code",
   "execution_count": null,
   "metadata": {
    "collapsed": true
   },
   "outputs": [],
   "source": [
    "data = pd.read_table(url)\n",
    "request=Request(url)\n",
    "response = urlopen(request).read()\n",
    "data = json.loads(response)"
   ]
  },
  {
   "cell_type": "code",
   "execution_count": null,
   "metadata": {
    "collapsed": true
   },
   "outputs": [],
   "source": [
    "lenroute = len(data['routes'])\n",
    "lenstep = len(data['routes'][0]['legs'][0]['steps'])\n",
    "\n",
    "start = []\n",
    "stop = []\n",
    "route = []\n",
    "for i in range(lenroute):\n",
    "    for j in range(lenstep):\n",
    "        start_lat = data['routes'][0]['legs'][0]['steps'][j]['start_location']['lat']\n",
    "        start_long = data['routes'][0]['legs'][0]['steps'][j]['start_location']['lng']\n",
    "        end_lat = data['routes'][0]['legs'][0]['steps'][j]['end_location']['lat']\n",
    "        end_long = data['routes'][0]['legs'][0]['steps'][j]['end_location']['lng']\n",
    "        start.append((start_lat,start_long))\n",
    "        stop.append((end_lat,end_long))\n",
    "        route.append(i)"
   ]
  },
  {
   "cell_type": "code",
   "execution_count": null,
   "metadata": {
    "collapsed": true
   },
   "outputs": [],
   "source": [
    "df = pd.DataFrame({\"route\":route,\n",
    "                   \"start_lat\":np.array(start)[:,0],\n",
    "                   \"start_long\":np.array(start)[:,1],\n",
    "                   \"end_lat\":np.array(stop)[:,0],\n",
    "                   \"end_long\":np.array(stop)[:,1]})"
   ]
  },
  {
   "cell_type": "code",
   "execution_count": null,
   "metadata": {
    "collapsed": false
   },
   "outputs": [],
   "source": [
    "df"
   ]
  },
  {
   "cell_type": "code",
   "execution_count": null,
   "metadata": {
    "collapsed": false
   },
   "outputs": [],
   "source": [
    "def sc(data,start_lat, start_long, end_lat, end_long, threshold):\n",
    "    min_long = min(start_long, end_long)\n",
    "    max_long = max(start_long, end_long)\n",
    "    min_lat = min(start_lat, end_lat)\n",
    "    max_lat = max(start_lat, end_lat)\n",
    "       \n",
    "    score_temp = data[(data.longitude > min_long-threshold) & (data.longitude < max_long+threshold)\n",
    "                         & (data.latitude > min_lat-threshold) & (data.latitude < max_lat +threshold)]\n",
    "    distance = vincenty((start_lat, start_long),(end_lat, end_long)).miles\n",
    "    sc = sum(score_temp['q-score']) / len(score_temp) / distance\n",
    "    return sc\n",
    " "
   ]
  },
  {
   "cell_type": "code",
   "execution_count": null,
   "metadata": {
    "collapsed": false
   },
   "outputs": [],
   "source": [
    "ix = 1\n",
    "min_long = min(df.start_long[ix], df.end_long[ix])\n",
    "max_long = max(df.start_long[ix], df.end_long[ix])\n",
    "min_lat = min(df.start_lat[ix], df.end_lat[ix])\n",
    "max_lat = max(df.start_lat[ix], df.end_lat[ix])"
   ]
  },
  {
   "cell_type": "code",
   "execution_count": null,
   "metadata": {
    "collapsed": false
   },
   "outputs": [],
   "source": [
    "score_temp = streetscore[(streetscore.longitude > min_long-.0002) & (streetscore.longitude < max_long+.0002)\n",
    "                         & (streetscore.latitude > min_lat-.0002) & (streetscore.latitude < max_lat +.0002)]"
   ]
  },
  {
   "cell_type": "code",
   "execution_count": null,
   "metadata": {
    "collapsed": false
   },
   "outputs": [],
   "source": [
    "score_temp"
   ]
  },
  {
   "cell_type": "code",
   "execution_count": null,
   "metadata": {
    "collapsed": false
   },
   "outputs": [],
   "source": [
    "for i in range(len(df)):\n",
    "    try:\n",
    "        print sc(streetscore,df.start_lat[i],df.start_long[i],df.end_lat[i],df.end_long[i],.00015), i\n",
    "    except:\n",
    "        pass"
   ]
  },
  {
   "cell_type": "code",
   "execution_count": null,
   "metadata": {
    "collapsed": false
   },
   "outputs": [],
   "source": [
    "np.array(start)[:,0]"
   ]
  },
  {
   "cell_type": "code",
   "execution_count": null,
   "metadata": {
    "collapsed": true
   },
   "outputs": [],
   "source": []
  }
 ],
 "metadata": {
  "kernelspec": {
   "display_name": "Python [Root]",
   "language": "python",
   "name": "Python [Root]"
  },
  "language_info": {
   "codemirror_mode": {
    "name": "ipython",
    "version": 2
   },
   "file_extension": ".py",
   "mimetype": "text/x-python",
   "name": "python",
   "nbconvert_exporter": "python",
   "pygments_lexer": "ipython2",
   "version": "2.7.12"
  }
 },
 "nbformat": 4,
 "nbformat_minor": 0
}
