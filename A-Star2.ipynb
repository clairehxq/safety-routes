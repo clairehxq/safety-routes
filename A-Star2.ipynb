{
 "cells": [
  {
   "cell_type": "code",
   "execution_count": 16,
   "metadata": {
    "collapsed": true
   },
   "outputs": [],
   "source": [
    "class AStar(object):\n",
    "    def __init__(self, graph):\n",
    "        self.graph = graph\n",
    "        \n",
    "    def heuristic(self, node, start, end):\n",
    "        raise NotImplementedError\n",
    "        \n",
    "    def search(self, start, end):\n",
    "        openset = set()\n",
    "        closedset = set()\n",
    "        current = start\n",
    "        openset.add(current)\n",
    "        while openset:\n",
    "            current = min(openset, key=lambda o:o.g + o.h)\n",
    "            if current == end:\n",
    "                path = []\n",
    "                while current.parent:\n",
    "                    path.append(current)\n",
    "                    current = current.parent\n",
    "                path.append(current)\n",
    "                return path[::-1]\n",
    "            openset.remove(current)\n",
    "            closedset.add(current)\n",
    "            for node in self.graph[current]:\n",
    "                if node in closedset:\n",
    "                    continue\n",
    "                if node in openset:\n",
    "                    new_g = current.g + current.move_cost(node)\n",
    "                    if node.g > new_g:\n",
    "                        node.g = new_g\n",
    "                        node.parent = current\n",
    "                else:\n",
    "                    node.g = current.g + current.move_cost(node)\n",
    "                    node.h = self.heuristic(node, start, end)\n",
    "                    node.parent = current\n",
    "                    openset.add(node)\n",
    "        return None\n",
    "\n",
    "class AStarNode(object):\n",
    "    def __init__(self):\n",
    "        self.g = 0\n",
    "        self.h = 0\n",
    "        self.parent = None\n",
    "        \n",
    "    def move_cost(self, other):\n",
    "        raise NotImplementedError"
   ]
  },
  {
   "cell_type": "code",
   "execution_count": 126,
   "metadata": {
    "collapsed": false
   },
   "outputs": [],
   "source": [
    "from math import sqrt\n",
    "\n",
    "class AStarGrid(AStar):\n",
    "    def heuristic(self, node, start, end):\n",
    "        # NOTE: this is traditionally sqrt((end.x - node.x)**2 + (end.y - node.y)**2)\n",
    "        # However, if you are not interested in the *actual* cost, but only relative cost,\n",
    "        # then the math can be simplified.\n",
    "        return abs(end.x - node.x) + abs(end.y - node.y)\n",
    "        #return sqrt((end.x - node.x)**2 + (end.y - node.y)**2)\n",
    "\n",
    "class AStarGridNode(AStarNode):\n",
    "    def __init__(self, x, y):\n",
    "        self.x, self.y = x, y\n",
    "        super(AStarGridNode, self).__init__()\n",
    "\n",
    "    def move_cost(self, other):\n",
    "        diagonal = abs(self.x - other.x) == 1 and abs(self.y - other.y) == 1\n",
    "        return 25 if diagonal else 10\n",
    "\n",
    "    def __repr__(self):\n",
    "        return '(%d %d)' % (self.x, self.y)"
   ]
  },
  {
   "cell_type": "code",
   "execution_count": 127,
   "metadata": {
    "collapsed": false
   },
   "outputs": [
    {
     "name": "stdout",
     "output_type": "stream",
     "text": [
      "Path found: [(1 1), (1 2), (1 3), (2 3), (3 3), (3 4), (3 5), (3 6), (4 6), (5 6), (5 7)]\n"
     ]
    }
   ],
   "source": [
    "from itertools import product\n",
    "\n",
    "def make_graph(mapinfo):\n",
    "    nodes = [[AStarGridNode(x, y) for y in range(mapinfo['height'])] for x in range(mapinfo['width'])]\n",
    "    graph = {}\n",
    "    for x, y in product(range(mapinfo['width']), range(mapinfo['height'])):\n",
    "        node = nodes[x][y]\n",
    "        graph[node] = []\n",
    "        for i, j in product([-1, 0, 1], [-1, 0, 1]):\n",
    "            if not (0 <= x + i < mapinfo['width']): continue\n",
    "            if not (0 <= y + j < mapinfo['height']): continue\n",
    "            if [x+i,y+j] in mapinfo['obstacle']: continue\n",
    "            graph[nodes[x][y]].append(nodes[x+i][y+j])\n",
    "    return graph, nodes\n",
    "\n",
    "obstacle = [[2,5],[3,5],[4,5],[5,5]]\n",
    "graph, nodes = make_graph({\"width\": 8, \"height\": 8, \"obstacle\":[]})\n",
    "paths = AStarGrid(graph)\n",
    "start, end = nodes[1][1], nodes[5][7]\n",
    "path = paths.search(start, end)\n",
    "if path is None:\n",
    "    print \"No path found\"\n",
    "else:\n",
    "    print \"Path found:\", path"
   ]
  },
  {
   "cell_type": "code",
   "execution_count": 31,
   "metadata": {
    "collapsed": false
   },
   "outputs": [
    {
     "name": "stdout",
     "output_type": "stream",
     "text": [
      "Populating the interactive namespace from numpy and matplotlib\n"
     ]
    }
   ],
   "source": [
    "import matplotlib.pyplot as plt\n",
    "%pylab inline\n",
    "import numpy as np"
   ]
  },
  {
   "cell_type": "code",
   "execution_count": 141,
   "metadata": {
    "collapsed": false
   },
   "outputs": [
    {
     "data": {
      "text/plain": [
       "<matplotlib.collections.PathCollection at 0x7fce6fd0ed90>"
      ]
     },
     "execution_count": 141,
     "metadata": {},
     "output_type": "execute_result"
    },
    {
     "data": {
      "image/png": "[encoded data removed]",
      "text/plain": [
       "<matplotlib.figure.Figure at 0x7fce6feb0650>"
      ]
     },
     "metadata": {},
     "output_type": "display_data"
    }
   ],
   "source": [
    "from itertools import product\n",
    "for indices in product(range(len(nodes)), repeat=2):\n",
    "    plt.scatter(indices[0],indices[1])\n",
    "plt.axis('off')\n",
    "\n",
    "for i in range(1,len(path)):\n",
    "    plt.plot([path[i-1].x,path[i].x],[path[i-1].y,path[i].y],c='green')\n",
    "plt.scatter(start.x,start.y,c='r',edgecolor='r',lw=2)\n",
    "plt.scatter(end.x,end.y,c='r',edgecolor='r',lw=2)"
   ]
  },
  {
   "cell_type": "code",
   "execution_count": 135,
   "metadata": {
    "collapsed": false
   },
   "outputs": [
    {
     "data": {
      "text/plain": [
       "8"
      ]
     },
     "execution_count": 135,
     "metadata": {},
     "output_type": "execute_result"
    }
   ],
   "source": [
    "len(nodes)"
   ]
  },
  {
   "cell_type": "code",
   "execution_count": 129,
   "metadata": {
    "collapsed": false
   },
   "outputs": [
    {
     "data": {
      "text/plain": [
       "(1 1)"
      ]
     },
     "execution_count": 129,
     "metadata": {},
     "output_type": "execute_result"
    }
   ],
   "source": [
    "start"
   ]
  },
  {
   "cell_type": "code",
   "execution_count": 143,
   "metadata": {
    "collapsed": false
   },
   "outputs": [
    {
     "data": {
      "text/plain": [
       "{(3 7): [(2 6), (2 7), (3 6), (3 7), (4 6), (4 7)],\n",
       " (3 6): [(2 5), (2 6), (2 7), (3 5), (3 6), (3 7), (4 5), (4 6), (4 7)],\n",
       " (2 2): [(1 1), (1 2), (1 3), (2 1), (2 2), (2 3), (3 1), (3 2), (3 3)],\n",
       " (0 0): [(0 0), (0 1), (1 0), (1 1)],\n",
       " (0 2): [(0 1), (0 2), (0 3), (1 1), (1 2), (1 3)],\n",
       " (0 3): [(0 2), (0 3), (0 4), (1 2), (1 3), (1 4)],\n",
       " (2 6): [(1 5), (1 6), (1 7), (2 5), (2 6), (2 7), (3 5), (3 6), (3 7)],\n",
       " (3 1): [(2 0), (2 1), (2 2), (3 0), (3 1), (3 2), (4 0), (4 1), (4 2)],\n",
       " (3 3): [(2 2), (2 3), (2 4), (3 2), (3 3), (3 4), (4 2), (4 3), (4 4)],\n",
       " (3 4): [(2 3), (2 4), (2 5), (3 3), (3 4), (3 5), (4 3), (4 4), (4 5)],\n",
       " (2 3): [(1 2), (1 3), (1 4), (2 2), (2 3), (2 4), (3 2), (3 3), (3 4)],\n",
       " (1 0): [(0 0), (0 1), (1 0), (1 1), (2 0), (2 1)],\n",
       " (1 3): [(0 2), (0 3), (0 4), (1 2), (1 3), (1 4), (2 2), (2 3), (2 4)],\n",
       " (1 6): [(0 5), (0 6), (0 7), (1 5), (1 6), (1 7), (2 5), (2 6), (2 7)],\n",
       " (0 4): [(0 3), (0 4), (0 5), (1 3), (1 4), (1 5)],\n",
       " (2 5): [(1 4), (1 5), (1 6), (2 4), (2 5), (2 6), (3 4), (3 5), (3 6)],\n",
       " (3 0): [(2 0), (2 1), (3 0), (3 1), (4 0), (4 1)],\n",
       " (3 5): [(2 4), (2 5), (2 6), (3 4), (3 5), (3 6), (4 4), (4 5), (4 6)],\n",
       " (4 0): [(3 0), (3 1), (4 0), (4 1), (5 0), (5 1)],\n",
       " (2 0): [(1 0), (1 1), (2 0), (2 1), (3 0), (3 1)],\n",
       " (0 1): [(0 0), (0 1), (0 2), (1 0), (1 1), (1 2)],\n",
       " (1 2): [(0 1), (0 2), (0 3), (1 1), (1 2), (1 3), (2 1), (2 2), (2 3)],\n",
       " (1 5): [(0 4), (0 5), (0 6), (1 4), (1 5), (1 6), (2 4), (2 5), (2 6)],\n",
       " (0 5): [(0 4), (0 5), (0 6), (1 4), (1 5), (1 6)],\n",
       " (2 4): [(1 3), (1 4), (1 5), (2 3), (2 4), (2 5), (3 3), (3 4), (3 5)],\n",
       " (2 7): [(1 6), (1 7), (2 6), (2 7), (3 6), (3 7)],\n",
       " (4 1): [(3 0), (3 1), (3 2), (4 0), (4 1), (4 2), (5 0), (5 1), (5 2)],\n",
       " (2 1): [(1 0), (1 1), (1 2), (2 0), (2 1), (2 2), (3 0), (3 1), (3 2)],\n",
       " (1 7): [(0 6), (0 7), (1 6), (1 7), (2 6), (2 7)],\n",
       " (0 7): [(0 6), (0 7), (1 6), (1 7)],\n",
       " (1 1): [(0 0), (0 1), (0 2), (1 0), (1 1), (1 2), (2 0), (2 1), (2 2)],\n",
       " (1 4): [(0 3), (0 4), (0 5), (1 3), (1 4), (1 5), (2 3), (2 4), (2 5)],\n",
       " (0 6): [(0 5), (0 6), (0 7), (1 5), (1 6), (1 7)],\n",
       " (3 2): [(2 1), (2 2), (2 3), (3 1), (3 2), (3 3), (4 1), (4 2), (4 3)],\n",
       " (5 0): [(4 0), (4 1), (5 0), (5 1), (6 0), (6 1)],\n",
       " (4 6): [(3 5), (3 6), (3 7), (4 5), (4 6), (4 7), (5 5), (5 6), (5 7)],\n",
       " (4 7): [(3 6), (3 7), (4 6), (4 7), (5 6), (5 7)],\n",
       " (4 4): [(3 3), (3 4), (3 5), (4 3), (4 4), (4 5), (5 3), (5 4), (5 5)],\n",
       " (4 5): [(3 4), (3 5), (3 6), (4 4), (4 5), (4 6), (5 4), (5 5), (5 6)],\n",
       " (4 2): [(3 1), (3 2), (3 3), (4 1), (4 2), (4 3), (5 1), (5 2), (5 3)],\n",
       " (4 3): [(3 2), (3 3), (3 4), (4 2), (4 3), (4 4), (5 2), (5 3), (5 4)],\n",
       " (7 5): [(6 4), (6 5), (6 6), (7 4), (7 5), (7 6)],\n",
       " (6 2): [(5 1), (5 2), (5 3), (6 1), (6 2), (6 3), (7 1), (7 2), (7 3)],\n",
       " (5 6): [(4 5), (4 6), (4 7), (5 5), (5 6), (5 7), (6 5), (6 6), (6 7)],\n",
       " (5 2): [(4 1), (4 2), (4 3), (5 1), (5 2), (5 3), (6 1), (6 2), (6 3)],\n",
       " (5 3): [(4 2), (4 3), (4 4), (5 2), (5 3), (5 4), (6 2), (6 3), (6 4)],\n",
       " (5 4): [(4 3), (4 4), (4 5), (5 3), (5 4), (5 5), (6 3), (6 4), (6 5)],\n",
       " (6 7): [(5 6), (5 7), (6 6), (6 7), (7 6), (7 7)],\n",
       " (5 1): [(4 0), (4 1), (4 2), (5 0), (5 1), (5 2), (6 0), (6 1), (6 2)],\n",
       " (7 6): [(6 5), (6 6), (6 7), (7 5), (7 6), (7 7)],\n",
       " (6 4): [(5 3), (5 4), (5 5), (6 3), (6 4), (6 5), (7 3), (7 4), (7 5)],\n",
       " (6 1): [(5 0), (5 1), (5 2), (6 0), (6 1), (6 2), (7 0), (7 1), (7 2)],\n",
       " (5 5): [(4 4), (4 5), (4 6), (5 4), (5 5), (5 6), (6 4), (6 5), (6 6)],\n",
       " (5 7): [(4 6), (4 7), (5 6), (5 7), (6 6), (6 7)],\n",
       " (6 0): [(5 0), (5 1), (6 0), (6 1), (7 0), (7 1)],\n",
       " (7 1): [(6 0), (6 1), (6 2), (7 0), (7 1), (7 2)],\n",
       " (7 2): [(6 1), (6 2), (6 3), (7 1), (7 2), (7 3)],\n",
       " (7 7): [(6 6), (6 7), (7 6), (7 7)],\n",
       " (6 3): [(5 2), (5 3), (5 4), (6 2), (6 3), (6 4), (7 2), (7 3), (7 4)],\n",
       " (6 5): [(5 4), (5 5), (5 6), (6 4), (6 5), (6 6), (7 4), (7 5), (7 6)],\n",
       " (6 6): [(5 5), (5 6), (5 7), (6 5), (6 6), (6 7), (7 5), (7 6), (7 7)],\n",
       " (7 0): [(6 0), (6 1), (7 0), (7 1)],\n",
       " (7 3): [(6 2), (6 3), (6 4), (7 2), (7 3), (7 4)],\n",
       " (7 4): [(6 3), (6 4), (6 5), (7 3), (7 4), (7 5)]}"
      ]
     },
     "execution_count": 143,
     "metadata": {},
     "output_type": "execute_result"
    }
   ],
   "source": [
    "graph"
   ]
  },
  {
   "cell_type": "code",
   "execution_count": null,
   "metadata": {
    "collapsed": true
   },
   "outputs": [],
   "source": []
  }
 ],
 "metadata": {
  "kernelspec": {
   "display_name": "PUI2016_Python2",
   "language": "python",
   "name": "pui2016_python2"
  },
  "language_info": {
   "codemirror_mode": {
    "name": "ipython",
    "version": 2
   },
   "file_extension": ".py",
   "mimetype": "text/x-python",
   "name": "python",
   "nbconvert_exporter": "python",
   "pygments_lexer": "ipython2",
   "version": "2.7.12"
  }
 },
 "nbformat": 4,
 "nbformat_minor": 0
}
